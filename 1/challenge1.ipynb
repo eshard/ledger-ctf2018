{
 "cells": [
  {
   "cell_type": "code",
   "execution_count": 1,
   "metadata": {},
   "outputs": [],
   "source": [
    "import math\n",
    "import gmpy2 as gp\n",
    "\n",
    "p = 1361\n",
    "q = 6983\n",
    "mod = 1337694213377816\n",
    "\n",
    "n = p*q\n",
    "phi = (p-1)*(q-1)"
   ]
  },
  {
   "cell_type": "code",
   "execution_count": 2,
   "metadata": {},
   "outputs": [
    {
     "data": {
      "text/plain": [
       "(mpz(501635330016681), 1256040)"
      ]
     },
     "execution_count": 2,
     "metadata": {},
     "output_type": "execute_result"
    }
   ],
   "source": [
    "r = gp.mpz(1)\n",
    "n = 0\n",
    "for e in range(2, phi):\n",
    "    if math.gcd(e, phi)==1:\n",
    "        nb = (1+math.gcd(e-1,p-1))*(1+math.gcd(e-1,q-1))\n",
    "        if nb == 9:\n",
    "            n += 1\n",
    "            r = gp.t_mod(gp.mul(r, e), mod)\n",
    "r, n"
   ]
  },
  {
   "cell_type": "code",
   "execution_count": null,
   "metadata": {},
   "outputs": [],
   "source": []
  }
 ],
 "metadata": {
  "kernelspec": {
   "display_name": "Python 3",
   "language": "python",
   "name": "python3"
  },
  "language_info": {
   "codemirror_mode": {
    "name": "ipython",
    "version": 3
   },
   "file_extension": ".py",
   "mimetype": "text/x-python",
   "name": "python",
   "nbconvert_exporter": "python",
   "pygments_lexer": "ipython3",
   "version": "3.6.4"
  }
 },
 "nbformat": 4,
 "nbformat_minor": 2
}
