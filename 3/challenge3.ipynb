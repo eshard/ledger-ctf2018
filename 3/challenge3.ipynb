{
 "cells": [
  {
   "cell_type": "code",
   "execution_count": null,
   "metadata": {},
   "outputs": [],
   "source": [
    "!pip install bitcoin pybitcoin"
   ]
  },
  {
   "cell_type": "code",
   "execution_count": 2,
   "metadata": {},
   "outputs": [],
   "source": [
    "import binascii\n",
    "import bitcoin\n",
    "import pybitcoin\n",
    "from transactions import transactions\n",
    "\n",
    "def transaction_hash(transaction):\n",
    "    return binascii.hexlify(pybitcoin.hash.bin_sha256(pybitcoin.hash.bin_sha256(transaction)))\n",
    "\n",
    "\n",
    "def ecdsa_raw_sign3(msghash, priv, k):\n",
    "    hash = bitcoin.hash_to_int(msghash)\n",
    "\n",
    "    i, j = bitcoin.fast_multiply(bitcoin.G, k)\n",
    "\n",
    "    x = i\n",
    "    #   k^-1                      * (H(m) + x * s)\n",
    "    y = bitcoin.inv(k, bitcoin.N) * (hash + x * bitcoin.decode_privkey(priv)) % bitcoin.N\n",
    "\n",
    "    return 27 + (j % 2), x, y"
   ]
  },
  {
   "cell_type": "code",
   "execution_count": 3,
   "metadata": {},
   "outputs": [
    {
     "name": "stdout",
     "output_type": "stream",
     "text": [
      "('alice pub', '1Ppecdv2jWjZjdSJjnQs5JaGhethCsdTCL')\n",
      "18e6d4da1887b0083350f188a29a3895c5755f0e86b84e95ba26eaee0ba9c38a\n",
      "sig = HKaLZ/jSgiehh7cyhP5A7AXfEEwuQudjJiJqQLn2qa6Rc9oH1uZ6LztNIFEnG1Lp4EJnNF/RhXgJcky28lD/j6U=\n",
      "sig = signature: True\n"
     ]
    }
   ],
   "source": [
    "alice_priv = \"5JKpPhpoVaibqkFdwWzaPoQaHzNTCRmyjyqEpa67G8msKCiyiuA\"\n",
    "alice_address = \"1Ppecdv2jWjZjdSJjnQs5JaGhethCsdTCL\"\n",
    "bob_address = \"1QFmDXuBr9QY5NoRdbYfZBFFP5cTS9rL4E\"\n",
    "\n",
    "transaction = \"Amount:42 From:1Ppecdv2jWjZjdSJjnQs5JaGhethCsdTCL To:1QFmDXuBr9QY5NoRdbYfZBFFP5cTS9rL4E\"\n",
    "\n",
    "timestamp = 1521543600\n",
    "signature = \"HKaLZ/jSgiehh7cyhP5A7AXfEEwuQudjJiJqQLn2qa6Rc9oH1uZ6LztNIFEnG1Lp4EJnNF/RhXgJcky28lD/j6U=\"\n",
    "\n",
    "alice = pybitcoin.BitcoinPrivateKey(alice_priv)\n",
    "print(\"alice pub\", alice.public_key().address())\n",
    "\n",
    "thash = transaction_hash(transaction)\n",
    "print(thash)\n",
    "\n",
    "v, r, s = ecdsa_raw_sign3(thash, alice_priv, timestamp)\n",
    "sig = bitcoin.encode_sig(v, r, s)\n",
    "print(\"sig = %s\" % sig)\n",
    "print(\"sig = signature: %s\" % (sig == signature))"
   ]
  },
  {
   "cell_type": "code",
   "execution_count": 4,
   "metadata": {},
   "outputs": [
    {
     "name": "stdout",
     "output_type": "stream",
     "text": [
      "1 collision(s)\n",
      "1Kx74VzYPdnJ9xxYQRAap4oNsqaAdUdNCA\n",
      "sig = HKaLZ/jSgiehh7cyhP5A7AXfEEwuQudjJiJqQLn2qa6RSzWQeeCrbVIdw0vMpnYHqfUN9CQDI2LKlmHx84jTfjs=\n"
     ]
    }
   ],
   "source": [
    "def find_key_with_collision():\n",
    "    t = {}\n",
    "    for [trans, sig] in transactions:\n",
    "        v, r, s = bitcoin.decode_sig(sig)\n",
    "        if r in t:\n",
    "            t[r].append((trans, v,r,s))\n",
    "        else:\n",
    "            t[r] = [(trans, v,r,s)]\n",
    "\n",
    "    collisions = {k:v for k,v in t.iteritems() if len(v) > 1}\n",
    "    print('%d collision(s)' % len(collisions))\n",
    "\n",
    "    for k, v in collisions.iteritems():\n",
    "        if len(v) > 1:\n",
    "            (t1, v1, r1, s1) = v[0]\n",
    "            (t2, v2, r2, s2) = v[1]\n",
    "            z1 = bitcoin.hash_to_int(transaction_hash(t1))\n",
    "            z2 = bitcoin.hash_to_int(transaction_hash(t2))\n",
    "\n",
    "            z = z2 - z1\n",
    "            s = s2 - s1\n",
    "\n",
    "            r_inv = bitcoin.inv(r1, bitcoin.N)\n",
    "            s_inv = bitcoin.inv(s, bitcoin.N)\n",
    "\n",
    "            k = (z * s_inv) % bitcoin.N\n",
    "            d = (r_inv * (s1 * k - z1)) % bitcoin.N\n",
    "            return pybitcoin.BitcoinPrivateKey(d)\n",
    "\n",
    "def sign_transaction():\n",
    "    alice = find_key_with_collision()\n",
    "    print(alice.public_key().address())\n",
    "    tr = 'Amount:1000000 From:1Kx74VzYPdnJ9xxYQRAap4oNsqaAdUdNCA To:14pHuKrkRhLKsW6zxHKQ64DFGyKQffj7GW'\n",
    "    ts = 1521543600\n",
    "\n",
    "    v, r, s = ecdsa_raw_sign3(transaction_hash(tr), alice.to_wif(), ts)\n",
    "    sig = bitcoin.encode_sig(v, r, s)\n",
    "    print(\"sig = %s\" % sig)\n",
    "\n",
    "sign_transaction()"
   ]
  }
 ],
 "metadata": {
  "kernelspec": {
   "display_name": "Python 2",
   "language": "python",
   "name": "python2"
  },
  "language_info": {
   "codemirror_mode": {
    "name": "ipython",
    "version": 2
   },
   "file_extension": ".py",
   "mimetype": "text/x-python",
   "name": "python",
   "nbconvert_exporter": "python",
   "pygments_lexer": "ipython2",
   "version": "2.7.15"
  }
 },
 "nbformat": 4,
 "nbformat_minor": 2
}
